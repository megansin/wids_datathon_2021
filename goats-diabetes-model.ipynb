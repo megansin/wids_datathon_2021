{
 "cells": [
  {
   "cell_type": "code",
   "execution_count": 1,
   "metadata": {
    "_cell_guid": "b1076dfc-b9ad-4769-8c92-a6c4dae69d19",
    "_uuid": "8f2839f25d086af736a60e9eeb907d3b93b6e0e5",
    "execution": {
     "iopub.execute_input": "2024-01-06T05:01:16.177244Z",
     "iopub.status.busy": "2024-01-06T05:01:16.176022Z",
     "iopub.status.idle": "2024-01-06T05:01:16.183210Z",
     "shell.execute_reply": "2024-01-06T05:01:16.182311Z"
    },
    "papermill": {
     "duration": 0.050177,
     "end_time": "2024-01-06T05:01:16.183470",
     "exception": false,
     "start_time": "2024-01-06T05:01:16.133293",
     "status": "completed"
    },
    "tags": []
   },
   "outputs": [
    {
     "name": "stdout",
     "output_type": "stream",
     "text": [
      "/kaggle/input/widsdatathon2021/SampleSubmissionWiDS2021.csv\n",
      "/kaggle/input/widsdatathon2021/SolutionTemplateWiDS2021.csv\n",
      "/kaggle/input/widsdatathon2021/DataDictionaryWiDS2021.csv\n",
      "/kaggle/input/widsdatathon2021/UnlabeledWiDS2021.csv\n",
      "/kaggle/input/widsdatathon2021/TrainingWiDS2021.csv\n"
     ]
    }
   ],
   "source": [
    "# This Python 3 environment comes with many helpful analytics libraries installed\n",
    "# It is defined by the kaggle/python Docker image: https://github.com/kaggle/docker-python\n",
    "# For example, here's several helpful packages to load\n",
    "\n",
    "import numpy as np # linear algebra\n",
    "import pandas as pd # data processing, CSV file I/O (e.g. pd.read_csv)\n",
    "import matplotlib.pyplot as plt # Visualization\n",
    "%matplotlib inline\n",
    "\n",
    "# Input data files are available in the read-only \"../input/\" directory\n",
    "# For example, running this (by clicking run or pressing Shift+Enter) will list all files under the input directory\n",
    "\n",
    "import os\n",
    "for dirname, _, filenames in os.walk('/kaggle/input'):\n",
    "    for filename in filenames:\n",
    "        print(os.path.join(dirname, filename))\n",
    "\n",
    "# You can write up to 20GB to the current directory (/kaggle/working/) that gets preserved as output when you create a version using \"Save & Run All\" \n",
    "# You can also write temporary files to /kaggle/temp/, but they won't be saved outside of the current session"
   ]
  },
  {
   "cell_type": "markdown",
   "metadata": {
    "papermill": {
     "duration": 0.036224,
     "end_time": "2024-01-06T05:01:16.249295",
     "exception": false,
     "start_time": "2024-01-06T05:01:16.213071",
     "status": "completed"
    },
    "tags": []
   },
   "source": [
    "# Load dataset"
   ]
  },
  {
   "cell_type": "code",
   "execution_count": 2,
   "metadata": {
    "execution": {
     "iopub.execute_input": "2024-01-06T05:01:16.319542Z",
     "iopub.status.busy": "2024-01-06T05:01:16.318569Z",
     "iopub.status.idle": "2024-01-06T05:01:20.707524Z",
     "shell.execute_reply": "2024-01-06T05:01:20.708146Z"
    },
    "papermill": {
     "duration": 4.42819,
     "end_time": "2024-01-06T05:01:20.708362",
     "exception": false,
     "start_time": "2024-01-06T05:01:16.280172",
     "status": "completed"
    },
    "tags": []
   },
   "outputs": [
    {
     "name": "stdout",
     "output_type": "stream",
     "text": [
      "Index(['encounter_id', 'hospital_id', 'age', 'bmi', 'elective_surgery',\n",
      "       'ethnicity', 'gender', 'height', 'hospital_admit_source',\n",
      "       'icu_admit_source',\n",
      "       ...\n",
      "       'h1_pao2fio2ratio_max', 'h1_pao2fio2ratio_min', 'aids', 'cirrhosis',\n",
      "       'hepatic_failure', 'immunosuppression', 'leukemia', 'lymphoma',\n",
      "       'solid_tumor_with_metastasis', 'diabetes_mellitus'],\n",
      "      dtype='object', length=180)\n"
     ]
    }
   ],
   "source": [
    "diabetes = pd.read_csv('../input/widsdatathon2021/TrainingWiDS2021.csv', index_col=0, header = 0)    \n",
    "\n",
    "diabetes['ethnicity'] = np.where(diabetes['ethnicity'] == \"African American\", 1, np.where(diabetes['ethnicity'] == \"Asian\", 2, np.where(diabetes['ethnicity'] == \"Caucasian\", 3, \n",
    "                                np.where(diabetes['ethnicity'] == \"Hispanic\", 4, np.where(diabetes['ethnicity'] == \"Native American\", 5, np.where(diabetes['ethnicity'] == \"Other/Unknown\", 6, np.nan))))))\n",
    "# The dataset contains 13057 data points with missing values and 181 features(floats(157), integers(15) and object(7))\n",
    "print(diabetes.columns)  \n"
   ]
  },
  {
   "cell_type": "code",
   "execution_count": 3,
   "metadata": {
    "execution": {
     "iopub.execute_input": "2024-01-06T05:01:20.772326Z",
     "iopub.status.busy": "2024-01-06T05:01:20.771540Z",
     "iopub.status.idle": "2024-01-06T05:01:21.004439Z",
     "shell.execute_reply": "2024-01-06T05:01:21.005028Z"
    },
    "papermill": {
     "duration": 0.26694,
     "end_time": "2024-01-06T05:01:21.005262",
     "exception": false,
     "start_time": "2024-01-06T05:01:20.738322",
     "status": "completed"
    },
    "tags": []
   },
   "outputs": [
    {
     "name": "stdout",
     "output_type": "stream",
     "text": [
      "Index(['encounter_id', 'hospital_id', 'age', 'bmi', 'elective_surgery',\n",
      "       'ethnicity', 'gender', 'height', 'hospital_admit_source',\n",
      "       'icu_admit_source',\n",
      "       ...\n",
      "       'd1_pao2fio2ratio_max', 'd1_pao2fio2ratio_min', 'aids', 'cirrhosis',\n",
      "       'hepatic_failure', 'immunosuppression', 'leukemia', 'lymphoma',\n",
      "       'solid_tumor_with_metastasis', 'diabetes_mellitus'],\n",
      "      dtype='object', length=148)\n"
     ]
    }
   ],
   "source": [
    "diabetes = diabetes.drop([\"h1_bilirubin_max\", \"h1_bilirubin_min\", \"h1_albumin_max\", \"h1_albumin_min\", \"h1_lactate_max\", \"h1_lactate_min\", \"h1_pao2fio2ratio_max\", \n",
    "                            \"h1_pao2fio2ratio_min\", \"h1_arterial_ph_max\", \"h1_arterial_pco2_max\", \"h1_arterial_pco2_min\", \"h1_arterial_po2_max\", \"h1_arterial_po2_min\", \n",
    "                            \"h1_hco3_max\", \"h1_hco3_min\", \"h1_wbc_max\", \"h1_wbc_min\", \"h1_calcium_max\", \"h1_calcium_min\", \"h1_platelets_max\", \"h1_platelets_min\", \n",
    "                            \"h1_bun_max\", \"h1_bun_min\", \"h1_diasbp_invasive_max\", \"h1_diasbp_invasive_min\", \"h1_sysbp_invasive_max\", \"h1_sysbp_invasive_min\",\n",
    "                           \"h1_creatinine_max\", \"h1_creatinine_min\", \"h1_mbp_invasive_max\", \"h1_mbp_invasive_min\", \"h1_arterial_ph_min\"], axis = 1)\n",
    "print(diabetes.columns)"
   ]
  },
  {
   "cell_type": "markdown",
   "metadata": {
    "papermill": {
     "duration": 0.034276,
     "end_time": "2024-01-06T05:01:21.069743",
     "exception": false,
     "start_time": "2024-01-06T05:01:21.035467",
     "status": "completed"
    },
    "tags": []
   },
   "source": [
    "# Data Pre-processing:"
   ]
  },
  {
   "cell_type": "code",
   "execution_count": 4,
   "metadata": {
    "execution": {
     "iopub.execute_input": "2024-01-06T05:01:21.191100Z",
     "iopub.status.busy": "2024-01-06T05:01:21.190231Z",
     "iopub.status.idle": "2024-01-06T05:01:21.396791Z",
     "shell.execute_reply": "2024-01-06T05:01:21.396063Z"
    },
    "papermill": {
     "duration": 0.296626,
     "end_time": "2024-01-06T05:01:21.397031",
     "exception": false,
     "start_time": "2024-01-06T05:01:21.100405",
     "status": "completed"
    },
    "tags": []
   },
   "outputs": [
    {
     "name": "stdout",
     "output_type": "stream",
     "text": [
      "<class 'pandas.core.frame.DataFrame'>\n",
      "Int64Index: 130157 entries, 1 to 130157\n",
      "Columns: 143 entries, encounter_id to diabetes_mellitus\n",
      "dtypes: float64(126), int64(17)\n",
      "memory usage: 143.0 MB\n"
     ]
    }
   ],
   "source": [
    "# Subset only the numerical data\n",
    "diabetes = diabetes.select_dtypes(np.number)\n",
    "diabetes.info()\n",
    "\n",
    "# Remove data with id names\n",
    "diabetes = diabetes.drop(['encounter_id', 'hospital_id', 'icu_id'], axis = 1)\n",
    "\n",
    "# Convert any values into float, easy to use for predictive models\n",
    "diabetes = diabetes.apply (pd.to_numeric, errors='coerce')\n",
    "diabetes = diabetes.astype(float)\n"
   ]
  },
  {
   "cell_type": "code",
   "execution_count": 5,
   "metadata": {
    "execution": {
     "iopub.execute_input": "2024-01-06T05:01:21.472681Z",
     "iopub.status.busy": "2024-01-06T05:01:21.471843Z",
     "iopub.status.idle": "2024-01-06T05:01:21.475253Z",
     "shell.execute_reply": "2024-01-06T05:01:21.475872Z"
    },
    "papermill": {
     "duration": 0.047922,
     "end_time": "2024-01-06T05:01:21.476103",
     "exception": false,
     "start_time": "2024-01-06T05:01:21.428181",
     "status": "completed"
    },
    "tags": []
   },
   "outputs": [
    {
     "name": "stdout",
     "output_type": "stream",
     "text": [
      "age                            float64\n",
      "bmi                            float64\n",
      "elective_surgery               float64\n",
      "ethnicity                      float64\n",
      "height                         float64\n",
      "                                ...   \n",
      "immunosuppression              float64\n",
      "leukemia                       float64\n",
      "lymphoma                       float64\n",
      "solid_tumor_with_metastasis    float64\n",
      "diabetes_mellitus              float64\n",
      "Length: 140, dtype: object\n"
     ]
    }
   ],
   "source": [
    "print(diabetes.dtypes)"
   ]
  },
  {
   "cell_type": "code",
   "execution_count": 6,
   "metadata": {
    "execution": {
     "iopub.execute_input": "2024-01-06T05:01:21.549468Z",
     "iopub.status.busy": "2024-01-06T05:01:21.548412Z",
     "iopub.status.idle": "2024-01-06T05:01:21.590546Z",
     "shell.execute_reply": "2024-01-06T05:01:21.591287Z"
    },
    "papermill": {
     "duration": 0.084542,
     "end_time": "2024-01-06T05:01:21.591527",
     "exception": false,
     "start_time": "2024-01-06T05:01:21.506985",
     "status": "completed"
    },
    "tags": []
   },
   "outputs": [
    {
     "data": {
      "text/html": [
       "<div>\n",
       "<style scoped>\n",
       "    .dataframe tbody tr th:only-of-type {\n",
       "        vertical-align: middle;\n",
       "    }\n",
       "\n",
       "    .dataframe tbody tr th {\n",
       "        vertical-align: top;\n",
       "    }\n",
       "\n",
       "    .dataframe thead th {\n",
       "        text-align: right;\n",
       "    }\n",
       "</style>\n",
       "<table border=\"1\" class=\"dataframe\">\n",
       "  <thead>\n",
       "    <tr style=\"text-align: right;\">\n",
       "      <th></th>\n",
       "      <th>age</th>\n",
       "      <th>bmi</th>\n",
       "      <th>elective_surgery</th>\n",
       "      <th>ethnicity</th>\n",
       "      <th>height</th>\n",
       "      <th>pre_icu_los_days</th>\n",
       "      <th>readmission_status</th>\n",
       "      <th>weight</th>\n",
       "      <th>albumin_apache</th>\n",
       "      <th>apache_2_diagnosis</th>\n",
       "      <th>...</th>\n",
       "      <th>d1_pao2fio2ratio_max</th>\n",
       "      <th>d1_pao2fio2ratio_min</th>\n",
       "      <th>aids</th>\n",
       "      <th>cirrhosis</th>\n",
       "      <th>hepatic_failure</th>\n",
       "      <th>immunosuppression</th>\n",
       "      <th>leukemia</th>\n",
       "      <th>lymphoma</th>\n",
       "      <th>solid_tumor_with_metastasis</th>\n",
       "      <th>diabetes_mellitus</th>\n",
       "    </tr>\n",
       "  </thead>\n",
       "  <tbody>\n",
       "    <tr>\n",
       "      <th>1</th>\n",
       "      <td>68.0</td>\n",
       "      <td>22.732803</td>\n",
       "      <td>0.0</td>\n",
       "      <td>3.0</td>\n",
       "      <td>180.3</td>\n",
       "      <td>0.541667</td>\n",
       "      <td>0.0</td>\n",
       "      <td>73.9</td>\n",
       "      <td>2.3</td>\n",
       "      <td>113.0</td>\n",
       "      <td>...</td>\n",
       "      <td>NaN</td>\n",
       "      <td>NaN</td>\n",
       "      <td>0.0</td>\n",
       "      <td>0.0</td>\n",
       "      <td>0.0</td>\n",
       "      <td>0.0</td>\n",
       "      <td>0.0</td>\n",
       "      <td>0.0</td>\n",
       "      <td>0.0</td>\n",
       "      <td>1.0</td>\n",
       "    </tr>\n",
       "    <tr>\n",
       "      <th>2</th>\n",
       "      <td>77.0</td>\n",
       "      <td>27.421875</td>\n",
       "      <td>0.0</td>\n",
       "      <td>3.0</td>\n",
       "      <td>160.0</td>\n",
       "      <td>0.927778</td>\n",
       "      <td>0.0</td>\n",
       "      <td>70.2</td>\n",
       "      <td>NaN</td>\n",
       "      <td>108.0</td>\n",
       "      <td>...</td>\n",
       "      <td>54.8</td>\n",
       "      <td>51.000000</td>\n",
       "      <td>0.0</td>\n",
       "      <td>0.0</td>\n",
       "      <td>0.0</td>\n",
       "      <td>0.0</td>\n",
       "      <td>0.0</td>\n",
       "      <td>0.0</td>\n",
       "      <td>0.0</td>\n",
       "      <td>1.0</td>\n",
       "    </tr>\n",
       "    <tr>\n",
       "      <th>3</th>\n",
       "      <td>25.0</td>\n",
       "      <td>31.952749</td>\n",
       "      <td>0.0</td>\n",
       "      <td>3.0</td>\n",
       "      <td>172.7</td>\n",
       "      <td>0.000694</td>\n",
       "      <td>0.0</td>\n",
       "      <td>95.3</td>\n",
       "      <td>NaN</td>\n",
       "      <td>122.0</td>\n",
       "      <td>...</td>\n",
       "      <td>NaN</td>\n",
       "      <td>NaN</td>\n",
       "      <td>0.0</td>\n",
       "      <td>0.0</td>\n",
       "      <td>0.0</td>\n",
       "      <td>0.0</td>\n",
       "      <td>0.0</td>\n",
       "      <td>0.0</td>\n",
       "      <td>0.0</td>\n",
       "      <td>0.0</td>\n",
       "    </tr>\n",
       "    <tr>\n",
       "      <th>4</th>\n",
       "      <td>81.0</td>\n",
       "      <td>22.635548</td>\n",
       "      <td>1.0</td>\n",
       "      <td>3.0</td>\n",
       "      <td>165.1</td>\n",
       "      <td>0.000694</td>\n",
       "      <td>0.0</td>\n",
       "      <td>61.7</td>\n",
       "      <td>NaN</td>\n",
       "      <td>203.0</td>\n",
       "      <td>...</td>\n",
       "      <td>342.5</td>\n",
       "      <td>236.666667</td>\n",
       "      <td>0.0</td>\n",
       "      <td>0.0</td>\n",
       "      <td>0.0</td>\n",
       "      <td>0.0</td>\n",
       "      <td>0.0</td>\n",
       "      <td>0.0</td>\n",
       "      <td>0.0</td>\n",
       "      <td>0.0</td>\n",
       "    </tr>\n",
       "    <tr>\n",
       "      <th>5</th>\n",
       "      <td>19.0</td>\n",
       "      <td>NaN</td>\n",
       "      <td>0.0</td>\n",
       "      <td>3.0</td>\n",
       "      <td>188.0</td>\n",
       "      <td>0.073611</td>\n",
       "      <td>0.0</td>\n",
       "      <td>NaN</td>\n",
       "      <td>NaN</td>\n",
       "      <td>119.0</td>\n",
       "      <td>...</td>\n",
       "      <td>NaN</td>\n",
       "      <td>NaN</td>\n",
       "      <td>0.0</td>\n",
       "      <td>0.0</td>\n",
       "      <td>0.0</td>\n",
       "      <td>0.0</td>\n",
       "      <td>0.0</td>\n",
       "      <td>0.0</td>\n",
       "      <td>0.0</td>\n",
       "      <td>0.0</td>\n",
       "    </tr>\n",
       "  </tbody>\n",
       "</table>\n",
       "<p>5 rows × 140 columns</p>\n",
       "</div>"
      ],
      "text/plain": [
       "    age        bmi  elective_surgery  ethnicity  height  pre_icu_los_days  \\\n",
       "1  68.0  22.732803               0.0        3.0   180.3          0.541667   \n",
       "2  77.0  27.421875               0.0        3.0   160.0          0.927778   \n",
       "3  25.0  31.952749               0.0        3.0   172.7          0.000694   \n",
       "4  81.0  22.635548               1.0        3.0   165.1          0.000694   \n",
       "5  19.0        NaN               0.0        3.0   188.0          0.073611   \n",
       "\n",
       "   readmission_status  weight  albumin_apache  apache_2_diagnosis  ...  \\\n",
       "1                 0.0    73.9             2.3               113.0  ...   \n",
       "2                 0.0    70.2             NaN               108.0  ...   \n",
       "3                 0.0    95.3             NaN               122.0  ...   \n",
       "4                 0.0    61.7             NaN               203.0  ...   \n",
       "5                 0.0     NaN             NaN               119.0  ...   \n",
       "\n",
       "   d1_pao2fio2ratio_max  d1_pao2fio2ratio_min  aids  cirrhosis  \\\n",
       "1                   NaN                   NaN   0.0        0.0   \n",
       "2                  54.8             51.000000   0.0        0.0   \n",
       "3                   NaN                   NaN   0.0        0.0   \n",
       "4                 342.5            236.666667   0.0        0.0   \n",
       "5                   NaN                   NaN   0.0        0.0   \n",
       "\n",
       "   hepatic_failure  immunosuppression  leukemia  lymphoma  \\\n",
       "1              0.0                0.0       0.0       0.0   \n",
       "2              0.0                0.0       0.0       0.0   \n",
       "3              0.0                0.0       0.0       0.0   \n",
       "4              0.0                0.0       0.0       0.0   \n",
       "5              0.0                0.0       0.0       0.0   \n",
       "\n",
       "   solid_tumor_with_metastasis  diabetes_mellitus  \n",
       "1                          0.0                1.0  \n",
       "2                          0.0                1.0  \n",
       "3                          0.0                0.0  \n",
       "4                          0.0                0.0  \n",
       "5                          0.0                0.0  \n",
       "\n",
       "[5 rows x 140 columns]"
      ]
     },
     "execution_count": 6,
     "metadata": {},
     "output_type": "execute_result"
    }
   ],
   "source": [
    "diabetes.head()"
   ]
  },
  {
   "cell_type": "code",
   "execution_count": 7,
   "metadata": {
    "execution": {
     "iopub.execute_input": "2024-01-06T05:01:21.665545Z",
     "iopub.status.busy": "2024-01-06T05:01:21.664719Z",
     "iopub.status.idle": "2024-01-06T05:01:22.877952Z",
     "shell.execute_reply": "2024-01-06T05:01:22.877220Z"
    },
    "papermill": {
     "duration": 1.252684,
     "end_time": "2024-01-06T05:01:22.878146",
     "exception": false,
     "start_time": "2024-01-06T05:01:21.625462",
     "status": "completed"
    },
    "tags": []
   },
   "outputs": [
    {
     "name": "stdout",
     "output_type": "stream",
     "text": [
      "                 age            bmi  elective_surgery      ethnicity  \\\n",
      "count  125169.000000  125667.000000     130157.000000  128570.000000   \n",
      "mean       61.995103      29.110260          0.189840       2.966104   \n",
      "std        16.822880       8.262776          0.392176       0.977117   \n",
      "min         0.000000      14.844926          0.000000       1.000000   \n",
      "25%        52.000000      23.598006          0.000000       3.000000   \n",
      "50%        64.000000      27.564749          0.000000       3.000000   \n",
      "75%        75.000000      32.803127          0.000000       3.000000   \n",
      "max        89.000000      67.814990          1.000000       6.000000   \n",
      "\n",
      "              height  pre_icu_los_days  readmission_status         weight  \\\n",
      "count  128080.000000     130157.000000            130157.0  126694.000000   \n",
      "mean      169.607219          0.839933                 0.0      83.791104   \n",
      "std        10.833085          2.485337                 0.0      24.963063   \n",
      "min       137.200000         -0.250000                 0.0      38.600000   \n",
      "25%       162.500000          0.045833                 0.0      66.500000   \n",
      "50%       170.100000          0.155556                 0.0      80.000000   \n",
      "75%       177.800000          0.423611                 0.0      96.800000   \n",
      "max       195.590000        175.627778                 0.0     186.000000   \n",
      "\n",
      "       albumin_apache  apache_2_diagnosis  ...  d1_pao2fio2ratio_max  \\\n",
      "count    51994.000000       128472.000000  ...          36818.000000   \n",
      "mean         2.886149          185.492683  ...            287.600071   \n",
      "std          0.689812           85.858208  ...            130.319620   \n",
      "min          1.200000          101.000000  ...             54.800000   \n",
      "25%          2.400000          113.000000  ...            192.205556   \n",
      "50%          2.900000          122.000000  ...            275.000000   \n",
      "75%          3.400000          301.000000  ...            370.000000   \n",
      "max          4.600000          308.000000  ...            834.805000   \n",
      "\n",
      "       d1_pao2fio2ratio_min          aids      cirrhosis  hepatic_failure  \\\n",
      "count          36818.000000  130157.00000  130157.000000    130157.000000   \n",
      "mean             224.005403       0.00103       0.016081         0.013599   \n",
      "std              119.119675       0.03207       0.125786         0.115819   \n",
      "min               36.000000       0.00000       0.000000         0.000000   \n",
      "25%              132.000000       0.00000       0.000000         0.000000   \n",
      "50%              205.000000       0.00000       0.000000         0.000000   \n",
      "75%              300.000000       0.00000       0.000000         0.000000   \n",
      "max              604.227778       1.00000       1.000000         1.000000   \n",
      "\n",
      "       immunosuppression       leukemia       lymphoma  \\\n",
      "count      130157.000000  130157.000000  130157.000000   \n",
      "mean            0.025669       0.007307       0.004187   \n",
      "std             0.158146       0.085166       0.064574   \n",
      "min             0.000000       0.000000       0.000000   \n",
      "25%             0.000000       0.000000       0.000000   \n",
      "50%             0.000000       0.000000       0.000000   \n",
      "75%             0.000000       0.000000       0.000000   \n",
      "max             1.000000       1.000000       1.000000   \n",
      "\n",
      "       solid_tumor_with_metastasis  diabetes_mellitus  \n",
      "count                130157.000000      130157.000000  \n",
      "mean                      0.020852           0.216285  \n",
      "std                       0.142888           0.411712  \n",
      "min                       0.000000           0.000000  \n",
      "25%                       0.000000           0.000000  \n",
      "50%                       0.000000           0.000000  \n",
      "75%                       0.000000           0.000000  \n",
      "max                       1.000000           1.000000  \n",
      "\n",
      "[8 rows x 140 columns]\n"
     ]
    }
   ],
   "source": [
    "print(diabetes.describe())"
   ]
  },
  {
   "cell_type": "code",
   "execution_count": 8,
   "metadata": {
    "execution": {
     "iopub.execute_input": "2024-01-06T05:01:22.956047Z",
     "iopub.status.busy": "2024-01-06T05:01:22.955041Z",
     "iopub.status.idle": "2024-01-06T05:01:22.958718Z",
     "shell.execute_reply": "2024-01-06T05:01:22.959319Z"
    },
    "papermill": {
     "duration": 0.044482,
     "end_time": "2024-01-06T05:01:22.959557",
     "exception": false,
     "start_time": "2024-01-06T05:01:22.915075",
     "status": "completed"
    },
    "tags": []
   },
   "outputs": [
    {
     "name": "stdout",
     "output_type": "stream",
     "text": [
      "dimension of diabetes data: (130157, 140)\n"
     ]
    }
   ],
   "source": [
    "print(\"dimension of diabetes data: {}\".format(diabetes.shape))\n",
    "# The diabetes data consists of 130157 data points and 171 features"
   ]
  },
  {
   "cell_type": "code",
   "execution_count": 9,
   "metadata": {
    "execution": {
     "iopub.execute_input": "2024-01-06T05:01:23.032407Z",
     "iopub.status.busy": "2024-01-06T05:01:23.031451Z",
     "iopub.status.idle": "2024-01-06T05:01:23.043815Z",
     "shell.execute_reply": "2024-01-06T05:01:23.043087Z"
    },
    "papermill": {
     "duration": 0.051271,
     "end_time": "2024-01-06T05:01:23.044012",
     "exception": false,
     "start_time": "2024-01-06T05:01:22.992741",
     "status": "completed"
    },
    "tags": []
   },
   "outputs": [
    {
     "name": "stdout",
     "output_type": "stream",
     "text": [
      "diabetes_mellitus\n",
      "0.0    102006\n",
      "1.0     28151\n",
      "dtype: int64\n"
     ]
    }
   ],
   "source": [
    "## Diabetes_mellitus is the feature we are going to predict, 0 means No diabetes and 1 means diabetes. \n",
    "print(diabetes.groupby('diabetes_mellitus').size())\n",
    "# Of the 130157 data points, 102006 have diabetes and 28151 do not have diabetes."
   ]
  },
  {
   "cell_type": "markdown",
   "metadata": {
    "papermill": {
     "duration": 0.034311,
     "end_time": "2024-01-06T05:01:23.113188",
     "exception": false,
     "start_time": "2024-01-06T05:01:23.078877",
     "status": "completed"
    },
    "tags": []
   },
   "source": [
    "# Feature engineering and selection"
   ]
  },
  {
   "cell_type": "code",
   "execution_count": 10,
   "metadata": {
    "execution": {
     "iopub.execute_input": "2024-01-06T05:01:23.188066Z",
     "iopub.status.busy": "2024-01-06T05:01:23.187190Z",
     "iopub.status.idle": "2024-01-06T05:01:23.474338Z",
     "shell.execute_reply": "2024-01-06T05:01:23.473509Z"
    },
    "papermill": {
     "duration": 0.327315,
     "end_time": "2024-01-06T05:01:23.474551",
     "exception": false,
     "start_time": "2024-01-06T05:01:23.147236",
     "status": "completed"
    },
    "tags": []
   },
   "outputs": [
    {
     "name": "stdout",
     "output_type": "stream",
     "text": [
      "age                            4988\n",
      "bmi                            4490\n",
      "elective_surgery                  0\n",
      "ethnicity                      1587\n",
      "height                         2077\n",
      "                               ... \n",
      "immunosuppression                 0\n",
      "leukemia                          0\n",
      "lymphoma                          0\n",
      "solid_tumor_with_metastasis       0\n",
      "diabetes_mellitus                 0\n",
      "Length: 140, dtype: int64\n",
      "age                            0\n",
      "bmi                            0\n",
      "elective_surgery               0\n",
      "ethnicity                      0\n",
      "height                         0\n",
      "                              ..\n",
      "immunosuppression              0\n",
      "leukemia                       0\n",
      "lymphoma                       0\n",
      "solid_tumor_with_metastasis    0\n",
      "diabetes_mellitus              0\n",
      "Length: 140, dtype: int64\n"
     ]
    },
    {
     "data": {
      "text/html": [
       "<div>\n",
       "<style scoped>\n",
       "    .dataframe tbody tr th:only-of-type {\n",
       "        vertical-align: middle;\n",
       "    }\n",
       "\n",
       "    .dataframe tbody tr th {\n",
       "        vertical-align: top;\n",
       "    }\n",
       "\n",
       "    .dataframe thead th {\n",
       "        text-align: right;\n",
       "    }\n",
       "</style>\n",
       "<table border=\"1\" class=\"dataframe\">\n",
       "  <thead>\n",
       "    <tr style=\"text-align: right;\">\n",
       "      <th></th>\n",
       "      <th>age</th>\n",
       "      <th>bmi</th>\n",
       "      <th>elective_surgery</th>\n",
       "      <th>ethnicity</th>\n",
       "      <th>height</th>\n",
       "      <th>pre_icu_los_days</th>\n",
       "      <th>readmission_status</th>\n",
       "      <th>weight</th>\n",
       "      <th>albumin_apache</th>\n",
       "      <th>apache_2_diagnosis</th>\n",
       "      <th>...</th>\n",
       "      <th>d1_pao2fio2ratio_max</th>\n",
       "      <th>d1_pao2fio2ratio_min</th>\n",
       "      <th>aids</th>\n",
       "      <th>cirrhosis</th>\n",
       "      <th>hepatic_failure</th>\n",
       "      <th>immunosuppression</th>\n",
       "      <th>leukemia</th>\n",
       "      <th>lymphoma</th>\n",
       "      <th>solid_tumor_with_metastasis</th>\n",
       "      <th>diabetes_mellitus</th>\n",
       "    </tr>\n",
       "  </thead>\n",
       "  <tbody>\n",
       "    <tr>\n",
       "      <th>1</th>\n",
       "      <td>68.0</td>\n",
       "      <td>22.732803</td>\n",
       "      <td>0.0</td>\n",
       "      <td>3.0</td>\n",
       "      <td>180.3</td>\n",
       "      <td>0.541667</td>\n",
       "      <td>0.0</td>\n",
       "      <td>73.900000</td>\n",
       "      <td>2.300000</td>\n",
       "      <td>113.0</td>\n",
       "      <td>...</td>\n",
       "      <td>287.600071</td>\n",
       "      <td>224.005403</td>\n",
       "      <td>0.0</td>\n",
       "      <td>0.0</td>\n",
       "      <td>0.0</td>\n",
       "      <td>0.0</td>\n",
       "      <td>0.0</td>\n",
       "      <td>0.0</td>\n",
       "      <td>0.0</td>\n",
       "      <td>1.0</td>\n",
       "    </tr>\n",
       "    <tr>\n",
       "      <th>2</th>\n",
       "      <td>77.0</td>\n",
       "      <td>27.421875</td>\n",
       "      <td>0.0</td>\n",
       "      <td>3.0</td>\n",
       "      <td>160.0</td>\n",
       "      <td>0.927778</td>\n",
       "      <td>0.0</td>\n",
       "      <td>70.200000</td>\n",
       "      <td>2.886149</td>\n",
       "      <td>108.0</td>\n",
       "      <td>...</td>\n",
       "      <td>54.800000</td>\n",
       "      <td>51.000000</td>\n",
       "      <td>0.0</td>\n",
       "      <td>0.0</td>\n",
       "      <td>0.0</td>\n",
       "      <td>0.0</td>\n",
       "      <td>0.0</td>\n",
       "      <td>0.0</td>\n",
       "      <td>0.0</td>\n",
       "      <td>1.0</td>\n",
       "    </tr>\n",
       "    <tr>\n",
       "      <th>3</th>\n",
       "      <td>25.0</td>\n",
       "      <td>31.952749</td>\n",
       "      <td>0.0</td>\n",
       "      <td>3.0</td>\n",
       "      <td>172.7</td>\n",
       "      <td>0.000694</td>\n",
       "      <td>0.0</td>\n",
       "      <td>95.300000</td>\n",
       "      <td>2.886149</td>\n",
       "      <td>122.0</td>\n",
       "      <td>...</td>\n",
       "      <td>287.600071</td>\n",
       "      <td>224.005403</td>\n",
       "      <td>0.0</td>\n",
       "      <td>0.0</td>\n",
       "      <td>0.0</td>\n",
       "      <td>0.0</td>\n",
       "      <td>0.0</td>\n",
       "      <td>0.0</td>\n",
       "      <td>0.0</td>\n",
       "      <td>0.0</td>\n",
       "    </tr>\n",
       "    <tr>\n",
       "      <th>4</th>\n",
       "      <td>81.0</td>\n",
       "      <td>22.635548</td>\n",
       "      <td>1.0</td>\n",
       "      <td>3.0</td>\n",
       "      <td>165.1</td>\n",
       "      <td>0.000694</td>\n",
       "      <td>0.0</td>\n",
       "      <td>61.700000</td>\n",
       "      <td>2.886149</td>\n",
       "      <td>203.0</td>\n",
       "      <td>...</td>\n",
       "      <td>342.500000</td>\n",
       "      <td>236.666667</td>\n",
       "      <td>0.0</td>\n",
       "      <td>0.0</td>\n",
       "      <td>0.0</td>\n",
       "      <td>0.0</td>\n",
       "      <td>0.0</td>\n",
       "      <td>0.0</td>\n",
       "      <td>0.0</td>\n",
       "      <td>0.0</td>\n",
       "    </tr>\n",
       "    <tr>\n",
       "      <th>5</th>\n",
       "      <td>19.0</td>\n",
       "      <td>29.110260</td>\n",
       "      <td>0.0</td>\n",
       "      <td>3.0</td>\n",
       "      <td>188.0</td>\n",
       "      <td>0.073611</td>\n",
       "      <td>0.0</td>\n",
       "      <td>83.791104</td>\n",
       "      <td>2.886149</td>\n",
       "      <td>119.0</td>\n",
       "      <td>...</td>\n",
       "      <td>287.600071</td>\n",
       "      <td>224.005403</td>\n",
       "      <td>0.0</td>\n",
       "      <td>0.0</td>\n",
       "      <td>0.0</td>\n",
       "      <td>0.0</td>\n",
       "      <td>0.0</td>\n",
       "      <td>0.0</td>\n",
       "      <td>0.0</td>\n",
       "      <td>0.0</td>\n",
       "    </tr>\n",
       "    <tr>\n",
       "      <th>...</th>\n",
       "      <td>...</td>\n",
       "      <td>...</td>\n",
       "      <td>...</td>\n",
       "      <td>...</td>\n",
       "      <td>...</td>\n",
       "      <td>...</td>\n",
       "      <td>...</td>\n",
       "      <td>...</td>\n",
       "      <td>...</td>\n",
       "      <td>...</td>\n",
       "      <td>...</td>\n",
       "      <td>...</td>\n",
       "      <td>...</td>\n",
       "      <td>...</td>\n",
       "      <td>...</td>\n",
       "      <td>...</td>\n",
       "      <td>...</td>\n",
       "      <td>...</td>\n",
       "      <td>...</td>\n",
       "      <td>...</td>\n",
       "      <td>...</td>\n",
       "    </tr>\n",
       "    <tr>\n",
       "      <th>130153</th>\n",
       "      <td>50.0</td>\n",
       "      <td>29.287256</td>\n",
       "      <td>0.0</td>\n",
       "      <td>3.0</td>\n",
       "      <td>175.3</td>\n",
       "      <td>0.023611</td>\n",
       "      <td>0.0</td>\n",
       "      <td>90.000000</td>\n",
       "      <td>2.886149</td>\n",
       "      <td>110.0</td>\n",
       "      <td>...</td>\n",
       "      <td>287.600071</td>\n",
       "      <td>224.005403</td>\n",
       "      <td>0.0</td>\n",
       "      <td>0.0</td>\n",
       "      <td>0.0</td>\n",
       "      <td>0.0</td>\n",
       "      <td>0.0</td>\n",
       "      <td>0.0</td>\n",
       "      <td>0.0</td>\n",
       "      <td>0.0</td>\n",
       "    </tr>\n",
       "    <tr>\n",
       "      <th>130154</th>\n",
       "      <td>79.0</td>\n",
       "      <td>29.653433</td>\n",
       "      <td>0.0</td>\n",
       "      <td>3.0</td>\n",
       "      <td>162.6</td>\n",
       "      <td>0.009722</td>\n",
       "      <td>0.0</td>\n",
       "      <td>78.400000</td>\n",
       "      <td>3.500000</td>\n",
       "      <td>105.0</td>\n",
       "      <td>...</td>\n",
       "      <td>287.600071</td>\n",
       "      <td>224.005403</td>\n",
       "      <td>0.0</td>\n",
       "      <td>0.0</td>\n",
       "      <td>0.0</td>\n",
       "      <td>0.0</td>\n",
       "      <td>0.0</td>\n",
       "      <td>0.0</td>\n",
       "      <td>0.0</td>\n",
       "      <td>0.0</td>\n",
       "    </tr>\n",
       "    <tr>\n",
       "      <th>130155</th>\n",
       "      <td>73.0</td>\n",
       "      <td>32.265371</td>\n",
       "      <td>0.0</td>\n",
       "      <td>1.0</td>\n",
       "      <td>177.8</td>\n",
       "      <td>0.143056</td>\n",
       "      <td>0.0</td>\n",
       "      <td>102.000000</td>\n",
       "      <td>2.886149</td>\n",
       "      <td>114.0</td>\n",
       "      <td>...</td>\n",
       "      <td>163.000000</td>\n",
       "      <td>80.000000</td>\n",
       "      <td>0.0</td>\n",
       "      <td>0.0</td>\n",
       "      <td>0.0</td>\n",
       "      <td>0.0</td>\n",
       "      <td>0.0</td>\n",
       "      <td>0.0</td>\n",
       "      <td>0.0</td>\n",
       "      <td>1.0</td>\n",
       "    </tr>\n",
       "    <tr>\n",
       "      <th>130156</th>\n",
       "      <td>81.0</td>\n",
       "      <td>24.408579</td>\n",
       "      <td>0.0</td>\n",
       "      <td>3.0</td>\n",
       "      <td>185.4</td>\n",
       "      <td>0.188194</td>\n",
       "      <td>0.0</td>\n",
       "      <td>83.900000</td>\n",
       "      <td>2.886149</td>\n",
       "      <td>124.0</td>\n",
       "      <td>...</td>\n",
       "      <td>287.600071</td>\n",
       "      <td>224.005403</td>\n",
       "      <td>0.0</td>\n",
       "      <td>0.0</td>\n",
       "      <td>0.0</td>\n",
       "      <td>0.0</td>\n",
       "      <td>0.0</td>\n",
       "      <td>0.0</td>\n",
       "      <td>0.0</td>\n",
       "      <td>0.0</td>\n",
       "    </tr>\n",
       "    <tr>\n",
       "      <th>130157</th>\n",
       "      <td>35.0</td>\n",
       "      <td>30.132358</td>\n",
       "      <td>0.0</td>\n",
       "      <td>1.0</td>\n",
       "      <td>182.9</td>\n",
       "      <td>0.075000</td>\n",
       "      <td>0.0</td>\n",
       "      <td>100.800000</td>\n",
       "      <td>2.886149</td>\n",
       "      <td>105.0</td>\n",
       "      <td>...</td>\n",
       "      <td>287.600071</td>\n",
       "      <td>224.005403</td>\n",
       "      <td>0.0</td>\n",
       "      <td>0.0</td>\n",
       "      <td>0.0</td>\n",
       "      <td>0.0</td>\n",
       "      <td>0.0</td>\n",
       "      <td>0.0</td>\n",
       "      <td>0.0</td>\n",
       "      <td>0.0</td>\n",
       "    </tr>\n",
       "  </tbody>\n",
       "</table>\n",
       "<p>130157 rows × 140 columns</p>\n",
       "</div>"
      ],
      "text/plain": [
       "         age        bmi  elective_surgery  ethnicity  height  \\\n",
       "1       68.0  22.732803               0.0        3.0   180.3   \n",
       "2       77.0  27.421875               0.0        3.0   160.0   \n",
       "3       25.0  31.952749               0.0        3.0   172.7   \n",
       "4       81.0  22.635548               1.0        3.0   165.1   \n",
       "5       19.0  29.110260               0.0        3.0   188.0   \n",
       "...      ...        ...               ...        ...     ...   \n",
       "130153  50.0  29.287256               0.0        3.0   175.3   \n",
       "130154  79.0  29.653433               0.0        3.0   162.6   \n",
       "130155  73.0  32.265371               0.0        1.0   177.8   \n",
       "130156  81.0  24.408579               0.0        3.0   185.4   \n",
       "130157  35.0  30.132358               0.0        1.0   182.9   \n",
       "\n",
       "        pre_icu_los_days  readmission_status      weight  albumin_apache  \\\n",
       "1               0.541667                 0.0   73.900000        2.300000   \n",
       "2               0.927778                 0.0   70.200000        2.886149   \n",
       "3               0.000694                 0.0   95.300000        2.886149   \n",
       "4               0.000694                 0.0   61.700000        2.886149   \n",
       "5               0.073611                 0.0   83.791104        2.886149   \n",
       "...                  ...                 ...         ...             ...   \n",
       "130153          0.023611                 0.0   90.000000        2.886149   \n",
       "130154          0.009722                 0.0   78.400000        3.500000   \n",
       "130155          0.143056                 0.0  102.000000        2.886149   \n",
       "130156          0.188194                 0.0   83.900000        2.886149   \n",
       "130157          0.075000                 0.0  100.800000        2.886149   \n",
       "\n",
       "        apache_2_diagnosis  ...  d1_pao2fio2ratio_max  d1_pao2fio2ratio_min  \\\n",
       "1                    113.0  ...            287.600071            224.005403   \n",
       "2                    108.0  ...             54.800000             51.000000   \n",
       "3                    122.0  ...            287.600071            224.005403   \n",
       "4                    203.0  ...            342.500000            236.666667   \n",
       "5                    119.0  ...            287.600071            224.005403   \n",
       "...                    ...  ...                   ...                   ...   \n",
       "130153               110.0  ...            287.600071            224.005403   \n",
       "130154               105.0  ...            287.600071            224.005403   \n",
       "130155               114.0  ...            163.000000             80.000000   \n",
       "130156               124.0  ...            287.600071            224.005403   \n",
       "130157               105.0  ...            287.600071            224.005403   \n",
       "\n",
       "        aids  cirrhosis  hepatic_failure  immunosuppression  leukemia  \\\n",
       "1        0.0        0.0              0.0                0.0       0.0   \n",
       "2        0.0        0.0              0.0                0.0       0.0   \n",
       "3        0.0        0.0              0.0                0.0       0.0   \n",
       "4        0.0        0.0              0.0                0.0       0.0   \n",
       "5        0.0        0.0              0.0                0.0       0.0   \n",
       "...      ...        ...              ...                ...       ...   \n",
       "130153   0.0        0.0              0.0                0.0       0.0   \n",
       "130154   0.0        0.0              0.0                0.0       0.0   \n",
       "130155   0.0        0.0              0.0                0.0       0.0   \n",
       "130156   0.0        0.0              0.0                0.0       0.0   \n",
       "130157   0.0        0.0              0.0                0.0       0.0   \n",
       "\n",
       "        lymphoma  solid_tumor_with_metastasis  diabetes_mellitus  \n",
       "1            0.0                          0.0                1.0  \n",
       "2            0.0                          0.0                1.0  \n",
       "3            0.0                          0.0                0.0  \n",
       "4            0.0                          0.0                0.0  \n",
       "5            0.0                          0.0                0.0  \n",
       "...          ...                          ...                ...  \n",
       "130153       0.0                          0.0                0.0  \n",
       "130154       0.0                          0.0                0.0  \n",
       "130155       0.0                          0.0                1.0  \n",
       "130156       0.0                          0.0                0.0  \n",
       "130157       0.0                          0.0                0.0  \n",
       "\n",
       "[130157 rows x 140 columns]"
      ]
     },
     "execution_count": 10,
     "metadata": {},
     "output_type": "execute_result"
    }
   ],
   "source": [
    "print(diabetes.isnull().sum())\n",
    "\n",
    "# fill missing values with mean column values (NA replaced with mean values)\n",
    "diabetes.fillna(diabetes.mean(), inplace=True)\n",
    "# count the number of NaN values in each column\n",
    "print(diabetes.isnull().sum())\n",
    "diabetes"
   ]
  },
  {
   "cell_type": "code",
   "execution_count": 11,
   "metadata": {
    "execution": {
     "iopub.execute_input": "2024-01-06T05:01:23.554185Z",
     "iopub.status.busy": "2024-01-06T05:01:23.553277Z",
     "iopub.status.idle": "2024-01-06T05:01:24.681710Z",
     "shell.execute_reply": "2024-01-06T05:01:24.680985Z"
    },
    "papermill": {
     "duration": 1.171588,
     "end_time": "2024-01-06T05:01:24.681901",
     "exception": false,
     "start_time": "2024-01-06T05:01:23.510313",
     "status": "completed"
    },
    "tags": []
   },
   "outputs": [
    {
     "name": "stderr",
     "output_type": "stream",
     "text": [
      "/opt/conda/lib/python3.7/site-packages/seaborn/_decorators.py:43: FutureWarning: Pass the following variable as a keyword arg: x. From version 0.12, the only valid positional argument will be `data`, and passing other arguments without an explicit keyword will result in an error or misinterpretation.\n",
      "  FutureWarning\n"
     ]
    },
    {
     "data": {
      "text/plain": [
       "<AxesSubplot:xlabel='diabetes_mellitus', ylabel='count'>"
      ]
     },
     "execution_count": 11,
     "metadata": {},
     "output_type": "execute_result"
    },
    {
     "data": {
      "image/png": "[encoded data removed]",
      "text/plain": [
       "<Figure size 432x288 with 1 Axes>"
      ]
     },
     "metadata": {
      "needs_background": "light"
     },
     "output_type": "display_data"
    }
   ],
   "source": [
    "import seaborn as sns\n",
    "sns.countplot(diabetes['diabetes_mellitus'],label=\"Count\")"
   ]
  },
  {
   "cell_type": "markdown",
   "metadata": {
    "papermill": {
     "duration": 0.038737,
     "end_time": "2024-01-06T05:01:24.759134",
     "exception": false,
     "start_time": "2024-01-06T05:01:24.720397",
     "status": "completed"
    },
    "tags": []
   },
   "source": [
    "# K-Nearest Neighbors to Predict Diabetes"
   ]
  },
  {
   "cell_type": "code",
   "execution_count": 12,
   "metadata": {
    "execution": {
     "iopub.execute_input": "2024-01-06T05:01:24.847261Z",
     "iopub.status.busy": "2024-01-06T05:01:24.846393Z",
     "iopub.status.idle": "2024-01-06T06:29:23.590187Z",
     "shell.execute_reply": "2024-01-06T06:29:23.589413Z"
    },
    "papermill": {
     "duration": 5278.792407,
     "end_time": "2024-01-06T06:29:23.590411",
     "exception": false,
     "start_time": "2024-01-06T05:01:24.798004",
     "status": "completed"
    },
    "tags": []
   },
   "outputs": [
    {
     "data": {
      "text/plain": [
       "<matplotlib.legend.Legend at 0x7ffb19ef2510>"
      ]
     },
     "execution_count": 12,
     "metadata": {},
     "output_type": "execute_result"
    },
    {
     "data": {
      "image/png": "[encoded data removed]",
      "text/plain": [
       "<Figure size 432x288 with 1 Axes>"
      ]
     },
     "metadata": {
      "needs_background": "light"
     },
     "output_type": "display_data"
    }
   ],
   "source": [
    "from sklearn.model_selection import train_test_split\n",
    "X_train, X_test, y_train, y_test = train_test_split(diabetes.loc[:, diabetes.columns != 'diabetes_mellitus'], diabetes['diabetes_mellitus'], stratify=diabetes['diabetes_mellitus'], random_state=66)\n",
    "from sklearn.neighbors import KNeighborsClassifier\n",
    "training_accuracy = []\n",
    "test_accuracy = []\n",
    "# try n_neighbors from 1 to 10\n",
    "neighbors_settings = range(1, 11)\n",
    "for n_neighbors in neighbors_settings:\n",
    "    # build the model\n",
    "    knn = KNeighborsClassifier(n_neighbors=n_neighbors)\n",
    "    knn.fit(X_train, y_train)\n",
    "    # record training set accuracy\n",
    "    training_accuracy.append(knn.score(X_train, y_train))\n",
    "    # record test set accuracy\n",
    "    test_accuracy.append(knn.score(X_test, y_test))\n",
    "plt.plot(neighbors_settings, training_accuracy, label=\"training accuracy\")\n",
    "plt.plot(neighbors_settings, test_accuracy, label=\"test accuracy\")\n",
    "plt.ylabel(\"Accuracy\")\n",
    "plt.xlabel(\"n_neighbors\")\n",
    "plt.legend()"
   ]
  },
  {
   "cell_type": "code",
   "execution_count": 13,
   "metadata": {
    "execution": {
     "iopub.execute_input": "2024-01-06T06:29:23.683346Z",
     "iopub.status.busy": "2024-01-06T06:29:23.682537Z",
     "iopub.status.idle": "2024-01-06T06:39:18.255521Z",
     "shell.execute_reply": "2024-01-06T06:39:18.256227Z"
    },
    "papermill": {
     "duration": 594.626721,
     "end_time": "2024-01-06T06:39:18.256464",
     "exception": false,
     "start_time": "2024-01-06T06:29:23.629743",
     "status": "completed"
    },
    "tags": []
   },
   "outputs": [
    {
     "name": "stdout",
     "output_type": "stream",
     "text": [
      "Accuracy of K-NN classifier on training set: 0.83\n",
      "Accuracy of K-NN classifier on test set: 0.80\n"
     ]
    }
   ],
   "source": [
    "# check the accuracy score of the k-nearest neighbors algorithm to predict diabetes\n",
    "knn = KNeighborsClassifier(n_neighbors=9)\n",
    "knn.fit(X_train, y_train)\n",
    "print('Accuracy of K-NN classifier on training set: {:.2f}'.format(knn.score(X_train, y_train)))\n",
    "print('Accuracy of K-NN classifier on test set: {:.2f}'.format(knn.score(X_test, y_test)))"
   ]
  },
  {
   "cell_type": "markdown",
   "metadata": {
    "papermill": {
     "duration": 0.039841,
     "end_time": "2024-01-06T06:39:18.337895",
     "exception": false,
     "start_time": "2024-01-06T06:39:18.298054",
     "status": "completed"
    },
    "tags": []
   },
   "source": [
    "# Decision Tree Classifier"
   ]
  },
  {
   "cell_type": "code",
   "execution_count": 14,
   "metadata": {
    "execution": {
     "iopub.execute_input": "2024-01-06T06:39:18.423771Z",
     "iopub.status.busy": "2024-01-06T06:39:18.422616Z",
     "iopub.status.idle": "2024-01-06T06:39:35.183827Z",
     "shell.execute_reply": "2024-01-06T06:39:35.182939Z"
    },
    "papermill": {
     "duration": 16.805772,
     "end_time": "2024-01-06T06:39:35.184029",
     "exception": false,
     "start_time": "2024-01-06T06:39:18.378257",
     "status": "completed"
    },
    "tags": []
   },
   "outputs": [
    {
     "name": "stdout",
     "output_type": "stream",
     "text": [
      "Accuracy on training set: 1.000\n",
      "Accuracy on test set: 0.745\n"
     ]
    }
   ],
   "source": [
    "from sklearn.tree import DecisionTreeClassifier\n",
    "tree = DecisionTreeClassifier(random_state=0)\n",
    "tree.fit(X_train, y_train)\n",
    "print(\"Accuracy on training set: {:.3f}\".format(tree.score(X_train, y_train)))\n",
    "print(\"Accuracy on test set: {:.3f}\".format(tree.score(X_test, y_test)))"
   ]
  },
  {
   "cell_type": "code",
   "execution_count": 15,
   "metadata": {
    "execution": {
     "iopub.execute_input": "2024-01-06T06:39:35.280189Z",
     "iopub.status.busy": "2024-01-06T06:39:35.279279Z",
     "iopub.status.idle": "2024-01-06T06:39:37.443417Z",
     "shell.execute_reply": "2024-01-06T06:39:37.442719Z"
    },
    "papermill": {
     "duration": 2.218459,
     "end_time": "2024-01-06T06:39:37.443616",
     "exception": false,
     "start_time": "2024-01-06T06:39:35.225157",
     "status": "completed"
    },
    "tags": []
   },
   "outputs": [
    {
     "name": "stdout",
     "output_type": "stream",
     "text": [
      "Accuracy on training set: 0.810\n",
      "Accuracy on test set: 0.811\n"
     ]
    }
   ],
   "source": [
    "tree = DecisionTreeClassifier(max_depth=3, random_state=0)\n",
    "tree.fit(X_train, y_train)\n",
    "print(\"Accuracy on training set: {:.3f}\".format(tree.score(X_train, y_train)))\n",
    "print(\"Accuracy on test set: {:.3f}\".format(tree.score(X_test, y_test)))"
   ]
  },
  {
   "cell_type": "markdown",
   "metadata": {
    "papermill": {
     "duration": 0.040722,
     "end_time": "2024-01-06T06:39:37.525749",
     "exception": false,
     "start_time": "2024-01-06T06:39:37.485027",
     "status": "completed"
    },
    "tags": []
   },
   "source": [
    "# Feature Importance in Decision Trees"
   ]
  },
  {
   "cell_type": "code",
   "execution_count": 16,
   "metadata": {
    "execution": {
     "iopub.execute_input": "2024-01-06T06:39:37.612688Z",
     "iopub.status.busy": "2024-01-06T06:39:37.611905Z",
     "iopub.status.idle": "2024-01-06T06:39:37.620867Z",
     "shell.execute_reply": "2024-01-06T06:39:37.620262Z"
    },
    "papermill": {
     "duration": 0.053805,
     "end_time": "2024-01-06T06:39:37.621056",
     "exception": false,
     "start_time": "2024-01-06T06:39:37.567251",
     "status": "completed"
    },
    "tags": []
   },
   "outputs": [
    {
     "name": "stdout",
     "output_type": "stream",
     "text": [
      "Feature importances:\n",
      "[0.         0.05005538 0.         0.         0.         0.\n",
      " 0.         0.         0.         0.         0.         0.\n",
      " 0.         0.         0.         0.         0.         0.\n",
      " 0.03490805 0.         0.         0.         0.         0.\n",
      " 0.         0.         0.         0.         0.         0.\n",
      " 0.         0.         0.         0.         0.         0.\n",
      " 0.         0.         0.         0.         0.         0.\n",
      " 0.         0.         0.         0.         0.         0.\n",
      " 0.         0.         0.         0.         0.         0.\n",
      " 0.         0.         0.         0.         0.         0.\n",
      " 0.         0.         0.         0.         0.         0.\n",
      " 0.         0.         0.         0.         0.         0.\n",
      " 0.         0.         0.         0.         0.         0.\n",
      " 0.         0.         0.         0.         0.         0.\n",
      " 0.         0.         0.         0.         0.         0.\n",
      " 0.0135576  0.         0.90147896 0.         0.         0.\n",
      " 0.         0.         0.         0.         0.         0.\n",
      " 0.         0.         0.         0.         0.         0.\n",
      " 0.         0.         0.         0.         0.         0.\n",
      " 0.         0.         0.         0.         0.         0.\n",
      " 0.         0.         0.         0.         0.         0.\n",
      " 0.         0.         0.         0.         0.         0.\n",
      " 0.         0.         0.         0.         0.         0.\n",
      " 0.        ]\n"
     ]
    }
   ],
   "source": [
    "# Feature importance shows how important each feature is for the decision a decision tree classifier makes\n",
    "print(\"Feature importances:\\n{}\".format(tree.feature_importances_))\n"
   ]
  },
  {
   "cell_type": "code",
   "execution_count": 17,
   "metadata": {
    "execution": {
     "iopub.execute_input": "2024-01-06T06:39:37.711174Z",
     "iopub.status.busy": "2024-01-06T06:39:37.710197Z",
     "iopub.status.idle": "2024-01-06T06:39:41.025337Z",
     "shell.execute_reply": "2024-01-06T06:39:41.024703Z"
    },
    "papermill": {
     "duration": 3.362265,
     "end_time": "2024-01-06T06:39:41.025544",
     "exception": false,
     "start_time": "2024-01-06T06:39:37.663279",
     "status": "completed"
    },
    "tags": []
   },
   "outputs": [
    {
     "data": {
      "image/png": "[encoded data removed]",
      "text/plain": [
       "<Figure size 1440x1440 with 1 Axes>"
      ]
     },
     "metadata": {
      "needs_background": "light"
     },
     "output_type": "display_data"
    }
   ],
   "source": [
    "diabetes_features = [x for i,x in enumerate(diabetes.columns) if i!=139]\n",
    "def plot_feature_importances_diabetes(model):\n",
    "    plt.figure(figsize=(20,20))\n",
    "    n_features = 139\n",
    "    plt.barh(range(n_features), model.feature_importances_, align='center')\n",
    "    plt.yticks(np.arange(n_features), diabetes_features)\n",
    "    plt.xlabel(\"Feature importance\")\n",
    "    plt.ylabel(\"Feature\")\n",
    "    plt.ylim(-1, n_features)\n",
    "plot_feature_importances_diabetes(tree)\n",
    "# The main features (d1_hemoglobin_max, d1_glucose_max, d1_diabsp_noninvasive_min, weight, bmi) seems to be the major features contributing to predict the diabetes"
   ]
  },
  {
   "cell_type": "markdown",
   "metadata": {
    "papermill": {
     "duration": 0.047101,
     "end_time": "2024-01-06T06:39:41.125155",
     "exception": false,
     "start_time": "2024-01-06T06:39:41.078054",
     "status": "completed"
    },
    "tags": []
   },
   "source": [
    "# Deep Learning to Predict Diabetes"
   ]
  },
  {
   "cell_type": "code",
   "execution_count": 18,
   "metadata": {
    "execution": {
     "iopub.execute_input": "2024-01-06T06:39:41.232104Z",
     "iopub.status.busy": "2024-01-06T06:39:41.231242Z",
     "iopub.status.idle": "2024-01-06T06:44:02.096846Z",
     "shell.execute_reply": "2024-01-06T06:44:02.098782Z"
    },
    "papermill": {
     "duration": 260.925683,
     "end_time": "2024-01-06T06:44:02.099256",
     "exception": false,
     "start_time": "2024-01-06T06:39:41.173573",
     "status": "completed"
    },
    "tags": []
   },
   "outputs": [
    {
     "name": "stdout",
     "output_type": "stream",
     "text": [
      "Accuracy on training set: 0.82\n",
      "Accuracy on test set: 0.82\n"
     ]
    }
   ],
   "source": [
    "# Multilayer perceptrons (MLP) \n",
    "from sklearn.neural_network import MLPClassifier\n",
    "mlp = MLPClassifier(random_state=42)\n",
    "mlp.fit(X_train, y_train)\n",
    "print(\"Accuracy on training set: {:.2f}\".format(mlp.score(X_train, y_train)))\n",
    "print(\"Accuracy on test set: {:.2f}\".format(mlp.score(X_test, y_test)))\n",
    "# The result is not as better than decision tree model, might be due to scaling"
   ]
  },
  {
   "cell_type": "code",
   "execution_count": 19,
   "metadata": {
    "execution": {
     "iopub.execute_input": "2024-01-06T06:44:02.265406Z",
     "iopub.status.busy": "2024-01-06T06:44:02.263886Z",
     "iopub.status.idle": "2024-01-06T06:49:39.653925Z",
     "shell.execute_reply": "2024-01-06T06:49:39.652543Z"
    },
    "papermill": {
     "duration": 337.452404,
     "end_time": "2024-01-06T06:49:39.654264",
     "exception": false,
     "start_time": "2024-01-06T06:44:02.201860",
     "status": "completed"
    },
    "tags": []
   },
   "outputs": [
    {
     "name": "stderr",
     "output_type": "stream",
     "text": [
      "/opt/conda/lib/python3.7/site-packages/sklearn/neural_network/_multilayer_perceptron.py:585: ConvergenceWarning: Stochastic Optimizer: Maximum iterations (200) reached and the optimization hasn't converged yet.\n",
      "  % self.max_iter, ConvergenceWarning)\n"
     ]
    },
    {
     "name": "stdout",
     "output_type": "stream",
     "text": [
      "Accuracy on training set: 0.882\n",
      "Accuracy on test set: 0.799\n"
     ]
    }
   ],
   "source": [
    "# Re-scale data (Mean of 0 and variance of 1)\n",
    "from sklearn.preprocessing import StandardScaler\n",
    "scaler = StandardScaler()\n",
    "X_train_scaled = scaler.fit_transform(X_train)\n",
    "X_test_scaled = scaler.fit_transform(X_test)\n",
    "mlp = MLPClassifier(random_state=0)\n",
    "mlp.fit(X_train_scaled, y_train)\n",
    "print(\"Accuracy on training set: {:.3f}\".format(\n",
    "    mlp.score(X_train_scaled, y_train)))\n",
    "print(\"Accuracy on test set: {:.3f}\".format(mlp.score(X_test_scaled, y_test)))\n",
    "# The training model is over-fitting on re-scaling"
   ]
  },
  {
   "cell_type": "code",
   "execution_count": 20,
   "metadata": {
    "execution": {
     "iopub.execute_input": "2024-01-06T06:49:39.784087Z",
     "iopub.status.busy": "2024-01-06T06:49:39.782709Z",
     "iopub.status.idle": "2024-01-06T06:50:52.165888Z",
     "shell.execute_reply": "2024-01-06T06:50:52.164438Z"
    },
    "papermill": {
     "duration": 72.440229,
     "end_time": "2024-01-06T06:50:52.166233",
     "exception": false,
     "start_time": "2024-01-06T06:49:39.726004",
     "status": "completed"
    },
    "tags": []
   },
   "outputs": [
    {
     "name": "stdout",
     "output_type": "stream",
     "text": [
      "Accuracy on training set: 0.826\n",
      "Accuracy on test set: 0.824\n"
     ]
    }
   ],
   "source": [
    "# Tried to increase the iteration, alpha parameter to the weight of the model\n",
    "mlp = MLPClassifier(max_iter=1000, alpha=1, random_state=0)\n",
    "mlp.fit(X_train_scaled, y_train)\n",
    "print(\"Accuracy on training set: {:.3f}\".format(\n",
    "    mlp.score(X_train_scaled, y_train)))\n",
    "print(\"Accuracy on test set: {:.3f}\".format(mlp.score(X_test_scaled, y_test)))\n",
    "# Still the training model is over-fitting"
   ]
  },
  {
   "cell_type": "code",
   "execution_count": 21,
   "metadata": {
    "execution": {
     "iopub.execute_input": "2024-01-06T06:50:52.316437Z",
     "iopub.status.busy": "2024-01-06T06:50:52.315268Z",
     "iopub.status.idle": "2024-01-06T06:50:52.340053Z",
     "shell.execute_reply": "2024-01-06T06:50:52.340662Z"
    },
    "papermill": {
     "duration": 0.082323,
     "end_time": "2024-01-06T06:50:52.340906",
     "exception": false,
     "start_time": "2024-01-06T06:50:52.258583",
     "status": "completed"
    },
    "tags": []
   },
   "outputs": [],
   "source": [
    "import sklearn.metrics as metrics\n",
    "# calculate the fpr and tpr for all thresholds of the classification\n",
    "probs = tree.predict_proba(X_test)\n",
    "preds = probs[:,1]\n",
    "fpr, tpr, threshold = metrics.roc_curve(y_test, preds)\n",
    "roc_auc = metrics.auc(fpr, tpr)\n"
   ]
  },
  {
   "cell_type": "code",
   "execution_count": 22,
   "metadata": {
    "execution": {
     "iopub.execute_input": "2024-01-06T06:50:52.447783Z",
     "iopub.status.busy": "2024-01-06T06:50:52.446683Z",
     "iopub.status.idle": "2024-01-06T06:50:52.637741Z",
     "shell.execute_reply": "2024-01-06T06:50:52.637071Z"
    },
    "papermill": {
     "duration": 0.24504,
     "end_time": "2024-01-06T06:50:52.637934",
     "exception": false,
     "start_time": "2024-01-06T06:50:52.392894",
     "status": "completed"
    },
    "tags": []
   },
   "outputs": [
    {
     "data": {
      "image/png": "[encoded data removed]",
      "text/plain": [
       "<Figure size 432x288 with 1 Axes>"
      ]
     },
     "metadata": {
      "needs_background": "light"
     },
     "output_type": "display_data"
    }
   ],
   "source": [
    "# method I: plt the ROC curve\n",
    "import matplotlib.pyplot as plt\n",
    "plt.title('Receiver Operating Characteristic')\n",
    "plt.plot(fpr, tpr, 'b', label = 'AUC = %0.2f' % roc_auc)\n",
    "plt.legend(loc = 'lower right')\n",
    "plt.plot([0, 1], [0, 1],'r--')\n",
    "plt.xlim([0, 1])\n",
    "plt.ylim([0, 1])\n",
    "plt.ylabel('True Positive Rate')\n",
    "plt.xlabel('False Positive Rate')\n",
    "plt.show()"
   ]
  },
  {
   "cell_type": "markdown",
   "metadata": {
    "papermill": {
     "duration": 0.052246,
     "end_time": "2024-01-06T06:50:52.743467",
     "exception": false,
     "start_time": "2024-01-06T06:50:52.691221",
     "status": "completed"
    },
    "tags": []
   },
   "source": [
    "# Predicitng the unlabelledWiDS2021 dataset"
   ]
  },
  {
   "cell_type": "code",
   "execution_count": 23,
   "metadata": {
    "execution": {
     "iopub.execute_input": "2024-01-06T06:50:52.857201Z",
     "iopub.status.busy": "2024-01-06T06:50:52.856335Z",
     "iopub.status.idle": "2024-01-06T06:50:53.176681Z",
     "shell.execute_reply": "2024-01-06T06:50:53.175851Z"
    },
    "papermill": {
     "duration": 0.380764,
     "end_time": "2024-01-06T06:50:53.176863",
     "exception": false,
     "start_time": "2024-01-06T06:50:52.796099",
     "status": "completed"
    },
    "tags": []
   },
   "outputs": [],
   "source": [
    "diabetes_unlabelled = pd.read_csv('../input/widsdatathon2021/UnlabeledWiDS2021.csv', index_col=0, header = 0)    \n",
    "\n",
    "diabetes_unlabelled['ethnicity'] = np.where(diabetes_unlabelled['ethnicity'] == \"African American\", 1, np.where(diabetes_unlabelled['ethnicity'] == \"Asian\", 2, np.where(diabetes_unlabelled['ethnicity'] == \"Caucasian\", 3, \n",
    "                                np.where(diabetes_unlabelled['ethnicity'] == \"Hispanic\", 4, np.where(diabetes_unlabelled['ethnicity'] == \"Native American\", 5, np.where(diabetes_unlabelled['ethnicity'] == \"Other/Unknown\", 6, np.nan))))))\n",
    "diabetes_encounter = diabetes_unlabelled[[\"encounter_id\"]]"
   ]
  },
  {
   "cell_type": "code",
   "execution_count": 24,
   "metadata": {
    "execution": {
     "iopub.execute_input": "2024-01-06T06:50:53.300739Z",
     "iopub.status.busy": "2024-01-06T06:50:53.299614Z",
     "iopub.status.idle": "2024-01-06T06:50:53.304456Z",
     "shell.execute_reply": "2024-01-06T06:50:53.305038Z"
    },
    "papermill": {
     "duration": 0.075331,
     "end_time": "2024-01-06T06:50:53.305260",
     "exception": false,
     "start_time": "2024-01-06T06:50:53.229929",
     "status": "completed"
    },
    "tags": []
   },
   "outputs": [
    {
     "name": "stdout",
     "output_type": "stream",
     "text": [
      "Index(['encounter_id', 'hospital_id', 'age', 'bmi', 'elective_surgery',\n",
      "       'ethnicity', 'gender', 'height', 'hospital_admit_source',\n",
      "       'icu_admit_source',\n",
      "       ...\n",
      "       'd1_arterial_po2_min', 'd1_pao2fio2ratio_max', 'd1_pao2fio2ratio_min',\n",
      "       'aids', 'cirrhosis', 'hepatic_failure', 'immunosuppression', 'leukemia',\n",
      "       'lymphoma', 'solid_tumor_with_metastasis'],\n",
      "      dtype='object', length=147)\n"
     ]
    }
   ],
   "source": [
    "diabetes_unlabelled = diabetes_unlabelled.drop([\"h1_bilirubin_max\", \"h1_bilirubin_min\", \"h1_albumin_max\", \"h1_albumin_min\", \"h1_lactate_max\", \"h1_lactate_min\", \"h1_pao2fio2ratio_max\", \n",
    "                            \"h1_pao2fio2ratio_min\", \"h1_arterial_ph_max\", \"h1_arterial_pco2_max\", \"h1_arterial_pco2_min\", \"h1_arterial_po2_max\", \"h1_arterial_po2_min\", \n",
    "                            \"h1_hco3_max\", \"h1_hco3_min\", \"h1_wbc_max\", \"h1_wbc_min\", \"h1_calcium_max\", \"h1_calcium_min\", \"h1_platelets_max\", \"h1_platelets_min\", \n",
    "                            \"h1_bun_max\", \"h1_bun_min\", \"h1_diasbp_invasive_max\", \"h1_diasbp_invasive_min\", \"h1_sysbp_invasive_max\", \"h1_sysbp_invasive_min\",\n",
    "                           \"h1_creatinine_max\", \"h1_creatinine_min\", \"h1_mbp_invasive_max\", \"h1_mbp_invasive_min\", \"h1_arterial_ph_min\"], axis = 1)\n",
    "print(diabetes_unlabelled.columns)"
   ]
  },
  {
   "cell_type": "markdown",
   "metadata": {
    "papermill": {
     "duration": 0.052879,
     "end_time": "2024-01-06T06:50:53.412921",
     "exception": false,
     "start_time": "2024-01-06T06:50:53.360042",
     "status": "completed"
    },
    "tags": []
   },
   "source": [
    "# Data Pre-processing:"
   ]
  },
  {
   "cell_type": "code",
   "execution_count": 25,
   "metadata": {
    "execution": {
     "iopub.execute_input": "2024-01-06T06:50:53.523315Z",
     "iopub.status.busy": "2024-01-06T06:50:53.522553Z",
     "iopub.status.idle": "2024-01-06T06:50:53.575255Z",
     "shell.execute_reply": "2024-01-06T06:50:53.575854Z"
    },
    "papermill": {
     "duration": 0.109722,
     "end_time": "2024-01-06T06:50:53.576099",
     "exception": false,
     "start_time": "2024-01-06T06:50:53.466377",
     "status": "completed"
    },
    "tags": []
   },
   "outputs": [],
   "source": [
    "# Subset only the numerical data\n",
    "diabetes_unlabelled = diabetes_unlabelled.select_dtypes(np.number)\n",
    "diabetes_unlabelled.head()\n",
    "\n",
    "# Remove data with id names\n",
    "diabetes_unlabelled = diabetes_unlabelled.drop(['encounter_id', 'hospital_id', 'icu_id'], axis = 1)\n",
    "\n",
    "# Convert any values into float, easy to use for predictive models\n",
    "diabetes_unlabelled = diabetes_unlabelled.apply (pd.to_numeric, errors='coerce')\n",
    "diabetes_unlabelled = diabetes_unlabelled.astype(float)\n"
   ]
  },
  {
   "cell_type": "code",
   "execution_count": 26,
   "metadata": {
    "execution": {
     "iopub.execute_input": "2024-01-06T06:50:53.686146Z",
     "iopub.status.busy": "2024-01-06T06:50:53.685339Z",
     "iopub.status.idle": "2024-01-06T06:50:53.691681Z",
     "shell.execute_reply": "2024-01-06T06:50:53.690992Z"
    },
    "papermill": {
     "duration": 0.06299,
     "end_time": "2024-01-06T06:50:53.691878",
     "exception": false,
     "start_time": "2024-01-06T06:50:53.628888",
     "status": "completed"
    },
    "tags": []
   },
   "outputs": [
    {
     "name": "stdout",
     "output_type": "stream",
     "text": [
      "dimension of diabetes_unlabelled data: (10234, 139)\n"
     ]
    }
   ],
   "source": [
    "print(\"dimension of diabetes_unlabelled data: {}\".format(diabetes_unlabelled.shape))\n",
    "# The diabetes data consists of 10234 data points and 139 features"
   ]
  },
  {
   "cell_type": "code",
   "execution_count": 27,
   "metadata": {
    "execution": {
     "iopub.execute_input": "2024-01-06T06:50:53.802516Z",
     "iopub.status.busy": "2024-01-06T06:50:53.801674Z",
     "iopub.status.idle": "2024-01-06T06:50:53.913782Z",
     "shell.execute_reply": "2024-01-06T06:50:53.913027Z"
    },
    "papermill": {
     "duration": 0.168964,
     "end_time": "2024-01-06T06:50:53.914023",
     "exception": false,
     "start_time": "2024-01-06T06:50:53.745059",
     "status": "completed"
    },
    "tags": []
   },
   "outputs": [
    {
     "name": "stdout",
     "output_type": "stream",
     "text": [
      "age                               0\n",
      "bmi                            1015\n",
      "elective_surgery                  0\n",
      "ethnicity                       204\n",
      "height                          301\n",
      "                               ... \n",
      "hepatic_failure                   0\n",
      "immunosuppression                 0\n",
      "leukemia                          0\n",
      "lymphoma                          0\n",
      "solid_tumor_with_metastasis       0\n",
      "Length: 139, dtype: int64\n",
      "age                            0\n",
      "bmi                            0\n",
      "elective_surgery               0\n",
      "ethnicity                      0\n",
      "height                         0\n",
      "                              ..\n",
      "hepatic_failure                0\n",
      "immunosuppression              0\n",
      "leukemia                       0\n",
      "lymphoma                       0\n",
      "solid_tumor_with_metastasis    0\n",
      "Length: 139, dtype: int64\n"
     ]
    },
    {
     "data": {
      "text/html": [
       "<div>\n",
       "<style scoped>\n",
       "    .dataframe tbody tr th:only-of-type {\n",
       "        vertical-align: middle;\n",
       "    }\n",
       "\n",
       "    .dataframe tbody tr th {\n",
       "        vertical-align: top;\n",
       "    }\n",
       "\n",
       "    .dataframe thead th {\n",
       "        text-align: right;\n",
       "    }\n",
       "</style>\n",
       "<table border=\"1\" class=\"dataframe\">\n",
       "  <thead>\n",
       "    <tr style=\"text-align: right;\">\n",
       "      <th></th>\n",
       "      <th>age</th>\n",
       "      <th>bmi</th>\n",
       "      <th>elective_surgery</th>\n",
       "      <th>ethnicity</th>\n",
       "      <th>height</th>\n",
       "      <th>pre_icu_los_days</th>\n",
       "      <th>readmission_status</th>\n",
       "      <th>weight</th>\n",
       "      <th>albumin_apache</th>\n",
       "      <th>apache_2_diagnosis</th>\n",
       "      <th>...</th>\n",
       "      <th>d1_arterial_po2_min</th>\n",
       "      <th>d1_pao2fio2ratio_max</th>\n",
       "      <th>d1_pao2fio2ratio_min</th>\n",
       "      <th>aids</th>\n",
       "      <th>cirrhosis</th>\n",
       "      <th>hepatic_failure</th>\n",
       "      <th>immunosuppression</th>\n",
       "      <th>leukemia</th>\n",
       "      <th>lymphoma</th>\n",
       "      <th>solid_tumor_with_metastasis</th>\n",
       "    </tr>\n",
       "  </thead>\n",
       "  <tbody>\n",
       "    <tr>\n",
       "      <th>1</th>\n",
       "      <td>72.0</td>\n",
       "      <td>29.116463</td>\n",
       "      <td>0.0</td>\n",
       "      <td>3.0</td>\n",
       "      <td>152.4</td>\n",
       "      <td>0.015278</td>\n",
       "      <td>0.0</td>\n",
       "      <td>83.478729</td>\n",
       "      <td>2.800000</td>\n",
       "      <td>110.0</td>\n",
       "      <td>...</td>\n",
       "      <td>103.107914</td>\n",
       "      <td>297.79934</td>\n",
       "      <td>224.415951</td>\n",
       "      <td>0.0</td>\n",
       "      <td>0.0</td>\n",
       "      <td>0.0</td>\n",
       "      <td>0.0</td>\n",
       "      <td>0.0</td>\n",
       "      <td>0.0</td>\n",
       "      <td>0.0</td>\n",
       "    </tr>\n",
       "    <tr>\n",
       "      <th>2</th>\n",
       "      <td>86.0</td>\n",
       "      <td>29.116463</td>\n",
       "      <td>0.0</td>\n",
       "      <td>3.0</td>\n",
       "      <td>175.3</td>\n",
       "      <td>0.000000</td>\n",
       "      <td>0.0</td>\n",
       "      <td>83.478729</td>\n",
       "      <td>2.865877</td>\n",
       "      <td>117.0</td>\n",
       "      <td>...</td>\n",
       "      <td>103.107914</td>\n",
       "      <td>297.79934</td>\n",
       "      <td>224.415951</td>\n",
       "      <td>0.0</td>\n",
       "      <td>0.0</td>\n",
       "      <td>0.0</td>\n",
       "      <td>0.0</td>\n",
       "      <td>0.0</td>\n",
       "      <td>0.0</td>\n",
       "      <td>0.0</td>\n",
       "    </tr>\n",
       "    <tr>\n",
       "      <th>3</th>\n",
       "      <td>72.0</td>\n",
       "      <td>29.116463</td>\n",
       "      <td>0.0</td>\n",
       "      <td>3.0</td>\n",
       "      <td>162.6</td>\n",
       "      <td>0.003472</td>\n",
       "      <td>0.0</td>\n",
       "      <td>83.478729</td>\n",
       "      <td>3.200000</td>\n",
       "      <td>302.0</td>\n",
       "      <td>...</td>\n",
       "      <td>103.107914</td>\n",
       "      <td>297.79934</td>\n",
       "      <td>224.415951</td>\n",
       "      <td>0.0</td>\n",
       "      <td>0.0</td>\n",
       "      <td>0.0</td>\n",
       "      <td>0.0</td>\n",
       "      <td>0.0</td>\n",
       "      <td>0.0</td>\n",
       "      <td>0.0</td>\n",
       "    </tr>\n",
       "    <tr>\n",
       "      <th>4</th>\n",
       "      <td>66.0</td>\n",
       "      <td>29.116463</td>\n",
       "      <td>0.0</td>\n",
       "      <td>3.0</td>\n",
       "      <td>177.8</td>\n",
       "      <td>0.884028</td>\n",
       "      <td>0.0</td>\n",
       "      <td>83.478729</td>\n",
       "      <td>2.865877</td>\n",
       "      <td>113.0</td>\n",
       "      <td>...</td>\n",
       "      <td>103.107914</td>\n",
       "      <td>297.79934</td>\n",
       "      <td>224.415951</td>\n",
       "      <td>0.0</td>\n",
       "      <td>0.0</td>\n",
       "      <td>0.0</td>\n",
       "      <td>0.0</td>\n",
       "      <td>0.0</td>\n",
       "      <td>0.0</td>\n",
       "      <td>0.0</td>\n",
       "    </tr>\n",
       "    <tr>\n",
       "      <th>5</th>\n",
       "      <td>89.0</td>\n",
       "      <td>29.116463</td>\n",
       "      <td>0.0</td>\n",
       "      <td>3.0</td>\n",
       "      <td>170.2</td>\n",
       "      <td>0.013194</td>\n",
       "      <td>0.0</td>\n",
       "      <td>83.478729</td>\n",
       "      <td>3.400000</td>\n",
       "      <td>117.0</td>\n",
       "      <td>...</td>\n",
       "      <td>103.107914</td>\n",
       "      <td>297.79934</td>\n",
       "      <td>224.415951</td>\n",
       "      <td>0.0</td>\n",
       "      <td>0.0</td>\n",
       "      <td>0.0</td>\n",
       "      <td>0.0</td>\n",
       "      <td>0.0</td>\n",
       "      <td>0.0</td>\n",
       "      <td>0.0</td>\n",
       "    </tr>\n",
       "    <tr>\n",
       "      <th>...</th>\n",
       "      <td>...</td>\n",
       "      <td>...</td>\n",
       "      <td>...</td>\n",
       "      <td>...</td>\n",
       "      <td>...</td>\n",
       "      <td>...</td>\n",
       "      <td>...</td>\n",
       "      <td>...</td>\n",
       "      <td>...</td>\n",
       "      <td>...</td>\n",
       "      <td>...</td>\n",
       "      <td>...</td>\n",
       "      <td>...</td>\n",
       "      <td>...</td>\n",
       "      <td>...</td>\n",
       "      <td>...</td>\n",
       "      <td>...</td>\n",
       "      <td>...</td>\n",
       "      <td>...</td>\n",
       "      <td>...</td>\n",
       "      <td>...</td>\n",
       "    </tr>\n",
       "    <tr>\n",
       "      <th>10230</th>\n",
       "      <td>36.0</td>\n",
       "      <td>37.500000</td>\n",
       "      <td>0.0</td>\n",
       "      <td>3.0</td>\n",
       "      <td>170.1</td>\n",
       "      <td>1.696528</td>\n",
       "      <td>0.0</td>\n",
       "      <td>108.600000</td>\n",
       "      <td>2.865877</td>\n",
       "      <td>305.0</td>\n",
       "      <td>...</td>\n",
       "      <td>103.107914</td>\n",
       "      <td>297.79934</td>\n",
       "      <td>224.415951</td>\n",
       "      <td>0.0</td>\n",
       "      <td>0.0</td>\n",
       "      <td>0.0</td>\n",
       "      <td>0.0</td>\n",
       "      <td>0.0</td>\n",
       "      <td>0.0</td>\n",
       "      <td>0.0</td>\n",
       "    </tr>\n",
       "    <tr>\n",
       "      <th>10231</th>\n",
       "      <td>61.0</td>\n",
       "      <td>32.100000</td>\n",
       "      <td>0.0</td>\n",
       "      <td>3.0</td>\n",
       "      <td>160.0</td>\n",
       "      <td>0.033333</td>\n",
       "      <td>0.0</td>\n",
       "      <td>82.300000</td>\n",
       "      <td>2.865877</td>\n",
       "      <td>124.0</td>\n",
       "      <td>...</td>\n",
       "      <td>103.107914</td>\n",
       "      <td>297.79934</td>\n",
       "      <td>224.415951</td>\n",
       "      <td>0.0</td>\n",
       "      <td>0.0</td>\n",
       "      <td>0.0</td>\n",
       "      <td>0.0</td>\n",
       "      <td>0.0</td>\n",
       "      <td>0.0</td>\n",
       "      <td>0.0</td>\n",
       "    </tr>\n",
       "    <tr>\n",
       "      <th>10232</th>\n",
       "      <td>74.0</td>\n",
       "      <td>22.700000</td>\n",
       "      <td>0.0</td>\n",
       "      <td>3.0</td>\n",
       "      <td>165.1</td>\n",
       "      <td>0.757639</td>\n",
       "      <td>0.0</td>\n",
       "      <td>62.000000</td>\n",
       "      <td>2.865877</td>\n",
       "      <td>113.0</td>\n",
       "      <td>...</td>\n",
       "      <td>103.107914</td>\n",
       "      <td>297.79934</td>\n",
       "      <td>224.415951</td>\n",
       "      <td>0.0</td>\n",
       "      <td>0.0</td>\n",
       "      <td>0.0</td>\n",
       "      <td>0.0</td>\n",
       "      <td>0.0</td>\n",
       "      <td>0.0</td>\n",
       "      <td>0.0</td>\n",
       "    </tr>\n",
       "    <tr>\n",
       "      <th>10233</th>\n",
       "      <td>90.0</td>\n",
       "      <td>19.900000</td>\n",
       "      <td>0.0</td>\n",
       "      <td>3.0</td>\n",
       "      <td>160.0</td>\n",
       "      <td>0.087500</td>\n",
       "      <td>0.0</td>\n",
       "      <td>50.900000</td>\n",
       "      <td>2.865877</td>\n",
       "      <td>108.0</td>\n",
       "      <td>...</td>\n",
       "      <td>103.107914</td>\n",
       "      <td>297.79934</td>\n",
       "      <td>224.415951</td>\n",
       "      <td>0.0</td>\n",
       "      <td>0.0</td>\n",
       "      <td>0.0</td>\n",
       "      <td>0.0</td>\n",
       "      <td>0.0</td>\n",
       "      <td>0.0</td>\n",
       "      <td>0.0</td>\n",
       "    </tr>\n",
       "    <tr>\n",
       "      <th>10234</th>\n",
       "      <td>30.0</td>\n",
       "      <td>25.600000</td>\n",
       "      <td>0.0</td>\n",
       "      <td>3.0</td>\n",
       "      <td>177.8</td>\n",
       "      <td>0.054167</td>\n",
       "      <td>0.0</td>\n",
       "      <td>81.000000</td>\n",
       "      <td>2.865877</td>\n",
       "      <td>122.0</td>\n",
       "      <td>...</td>\n",
       "      <td>103.107914</td>\n",
       "      <td>297.79934</td>\n",
       "      <td>224.415951</td>\n",
       "      <td>0.0</td>\n",
       "      <td>0.0</td>\n",
       "      <td>0.0</td>\n",
       "      <td>0.0</td>\n",
       "      <td>0.0</td>\n",
       "      <td>0.0</td>\n",
       "      <td>0.0</td>\n",
       "    </tr>\n",
       "  </tbody>\n",
       "</table>\n",
       "<p>10234 rows × 139 columns</p>\n",
       "</div>"
      ],
      "text/plain": [
       "        age        bmi  elective_surgery  ethnicity  height  pre_icu_los_days  \\\n",
       "1      72.0  29.116463               0.0        3.0   152.4          0.015278   \n",
       "2      86.0  29.116463               0.0        3.0   175.3          0.000000   \n",
       "3      72.0  29.116463               0.0        3.0   162.6          0.003472   \n",
       "4      66.0  29.116463               0.0        3.0   177.8          0.884028   \n",
       "5      89.0  29.116463               0.0        3.0   170.2          0.013194   \n",
       "...     ...        ...               ...        ...     ...               ...   \n",
       "10230  36.0  37.500000               0.0        3.0   170.1          1.696528   \n",
       "10231  61.0  32.100000               0.0        3.0   160.0          0.033333   \n",
       "10232  74.0  22.700000               0.0        3.0   165.1          0.757639   \n",
       "10233  90.0  19.900000               0.0        3.0   160.0          0.087500   \n",
       "10234  30.0  25.600000               0.0        3.0   177.8          0.054167   \n",
       "\n",
       "       readmission_status      weight  albumin_apache  apache_2_diagnosis  \\\n",
       "1                     0.0   83.478729        2.800000               110.0   \n",
       "2                     0.0   83.478729        2.865877               117.0   \n",
       "3                     0.0   83.478729        3.200000               302.0   \n",
       "4                     0.0   83.478729        2.865877               113.0   \n",
       "5                     0.0   83.478729        3.400000               117.0   \n",
       "...                   ...         ...             ...                 ...   \n",
       "10230                 0.0  108.600000        2.865877               305.0   \n",
       "10231                 0.0   82.300000        2.865877               124.0   \n",
       "10232                 0.0   62.000000        2.865877               113.0   \n",
       "10233                 0.0   50.900000        2.865877               108.0   \n",
       "10234                 0.0   81.000000        2.865877               122.0   \n",
       "\n",
       "       ...  d1_arterial_po2_min  d1_pao2fio2ratio_max  d1_pao2fio2ratio_min  \\\n",
       "1      ...           103.107914             297.79934            224.415951   \n",
       "2      ...           103.107914             297.79934            224.415951   \n",
       "3      ...           103.107914             297.79934            224.415951   \n",
       "4      ...           103.107914             297.79934            224.415951   \n",
       "5      ...           103.107914             297.79934            224.415951   \n",
       "...    ...                  ...                   ...                   ...   \n",
       "10230  ...           103.107914             297.79934            224.415951   \n",
       "10231  ...           103.107914             297.79934            224.415951   \n",
       "10232  ...           103.107914             297.79934            224.415951   \n",
       "10233  ...           103.107914             297.79934            224.415951   \n",
       "10234  ...           103.107914             297.79934            224.415951   \n",
       "\n",
       "       aids  cirrhosis  hepatic_failure  immunosuppression  leukemia  \\\n",
       "1       0.0        0.0              0.0                0.0       0.0   \n",
       "2       0.0        0.0              0.0                0.0       0.0   \n",
       "3       0.0        0.0              0.0                0.0       0.0   \n",
       "4       0.0        0.0              0.0                0.0       0.0   \n",
       "5       0.0        0.0              0.0                0.0       0.0   \n",
       "...     ...        ...              ...                ...       ...   \n",
       "10230   0.0        0.0              0.0                0.0       0.0   \n",
       "10231   0.0        0.0              0.0                0.0       0.0   \n",
       "10232   0.0        0.0              0.0                0.0       0.0   \n",
       "10233   0.0        0.0              0.0                0.0       0.0   \n",
       "10234   0.0        0.0              0.0                0.0       0.0   \n",
       "\n",
       "       lymphoma  solid_tumor_with_metastasis  \n",
       "1           0.0                          0.0  \n",
       "2           0.0                          0.0  \n",
       "3           0.0                          0.0  \n",
       "4           0.0                          0.0  \n",
       "5           0.0                          0.0  \n",
       "...         ...                          ...  \n",
       "10230       0.0                          0.0  \n",
       "10231       0.0                          0.0  \n",
       "10232       0.0                          0.0  \n",
       "10233       0.0                          0.0  \n",
       "10234       0.0                          0.0  \n",
       "\n",
       "[10234 rows x 139 columns]"
      ]
     },
     "execution_count": 27,
     "metadata": {},
     "output_type": "execute_result"
    }
   ],
   "source": [
    "print(diabetes_unlabelled.isnull().sum())\n",
    "\n",
    "# fill missing values with mean column values (NA replaced with mean values)\n",
    "diabetes_unlabelled.fillna(diabetes_unlabelled.mean(), inplace=True)\n",
    "# count the number of NaN values in each column\n",
    "print(diabetes_unlabelled.isnull().sum())\n",
    "diabetes_unlabelled"
   ]
  },
  {
   "cell_type": "code",
   "execution_count": 28,
   "metadata": {
    "execution": {
     "iopub.execute_input": "2024-01-06T06:50:54.035633Z",
     "iopub.status.busy": "2024-01-06T06:50:54.034478Z",
     "iopub.status.idle": "2024-01-06T06:50:54.043220Z",
     "shell.execute_reply": "2024-01-06T06:50:54.042522Z"
    },
    "papermill": {
     "duration": 0.074244,
     "end_time": "2024-01-06T06:50:54.043419",
     "exception": false,
     "start_time": "2024-01-06T06:50:53.969175",
     "status": "completed"
    },
    "tags": []
   },
   "outputs": [],
   "source": [
    "import sklearn.metrics as metrics\n",
    "# calculate the fpr and tpr for all thresholds of the classification\n",
    "probs = tree.predict_proba(diabetes_unlabelled)\n",
    "preds = probs[:,1]"
   ]
  },
  {
   "cell_type": "code",
   "execution_count": 29,
   "metadata": {
    "execution": {
     "iopub.execute_input": "2024-01-06T06:50:54.165836Z",
     "iopub.status.busy": "2024-01-06T06:50:54.164546Z",
     "iopub.status.idle": "2024-01-06T06:50:54.169103Z",
     "shell.execute_reply": "2024-01-06T06:50:54.169782Z"
    },
    "papermill": {
     "duration": 0.071501,
     "end_time": "2024-01-06T06:50:54.170020",
     "exception": false,
     "start_time": "2024-01-06T06:50:54.098519",
     "status": "completed"
    },
    "tags": []
   },
   "outputs": [
    {
     "data": {
      "text/html": [
       "<div>\n",
       "<style scoped>\n",
       "    .dataframe tbody tr th:only-of-type {\n",
       "        vertical-align: middle;\n",
       "    }\n",
       "\n",
       "    .dataframe tbody tr th {\n",
       "        vertical-align: top;\n",
       "    }\n",
       "\n",
       "    .dataframe thead th {\n",
       "        text-align: right;\n",
       "    }\n",
       "</style>\n",
       "<table border=\"1\" class=\"dataframe\">\n",
       "  <thead>\n",
       "    <tr style=\"text-align: right;\">\n",
       "      <th></th>\n",
       "      <th>diabetes_mellitus</th>\n",
       "    </tr>\n",
       "  </thead>\n",
       "  <tbody>\n",
       "    <tr>\n",
       "      <th>0</th>\n",
       "      <td>0.952261</td>\n",
       "    </tr>\n",
       "    <tr>\n",
       "      <th>1</th>\n",
       "      <td>0.952261</td>\n",
       "    </tr>\n",
       "    <tr>\n",
       "      <th>2</th>\n",
       "      <td>0.871007</td>\n",
       "    </tr>\n",
       "    <tr>\n",
       "      <th>3</th>\n",
       "      <td>0.867394</td>\n",
       "    </tr>\n",
       "    <tr>\n",
       "      <th>4</th>\n",
       "      <td>0.871007</td>\n",
       "    </tr>\n",
       "  </tbody>\n",
       "</table>\n",
       "</div>"
      ],
      "text/plain": [
       "   diabetes_mellitus\n",
       "0           0.952261\n",
       "1           0.952261\n",
       "2           0.871007\n",
       "3           0.867394\n",
       "4           0.871007"
      ]
     },
     "execution_count": 29,
     "metadata": {},
     "output_type": "execute_result"
    }
   ],
   "source": [
    "diabetes_prediction = pd.DataFrame({'diabetes_mellitus': probs[:, 0]})\n",
    "diabetes_prediction.head()"
   ]
  },
  {
   "cell_type": "code",
   "execution_count": 30,
   "metadata": {
    "execution": {
     "iopub.execute_input": "2024-01-06T06:50:54.302327Z",
     "iopub.status.busy": "2024-01-06T06:50:54.301134Z",
     "iopub.status.idle": "2024-01-06T06:50:54.306580Z",
     "shell.execute_reply": "2024-01-06T06:50:54.305889Z"
    },
    "papermill": {
     "duration": 0.078921,
     "end_time": "2024-01-06T06:50:54.306753",
     "exception": false,
     "start_time": "2024-01-06T06:50:54.227832",
     "status": "completed"
    },
    "tags": []
   },
   "outputs": [
    {
     "data": {
      "text/html": [
       "<div>\n",
       "<style scoped>\n",
       "    .dataframe tbody tr th:only-of-type {\n",
       "        vertical-align: middle;\n",
       "    }\n",
       "\n",
       "    .dataframe tbody tr th {\n",
       "        vertical-align: top;\n",
       "    }\n",
       "\n",
       "    .dataframe thead th {\n",
       "        text-align: right;\n",
       "    }\n",
       "</style>\n",
       "<table border=\"1\" class=\"dataframe\">\n",
       "  <thead>\n",
       "    <tr style=\"text-align: right;\">\n",
       "      <th></th>\n",
       "      <th>encounter_id</th>\n",
       "      <th>diabetes_mellitus</th>\n",
       "    </tr>\n",
       "  </thead>\n",
       "  <tbody>\n",
       "    <tr>\n",
       "      <th>0</th>\n",
       "      <td>144740</td>\n",
       "      <td>0.952261</td>\n",
       "    </tr>\n",
       "    <tr>\n",
       "      <th>1</th>\n",
       "      <td>141990</td>\n",
       "      <td>0.952261</td>\n",
       "    </tr>\n",
       "    <tr>\n",
       "      <th>2</th>\n",
       "      <td>142038</td>\n",
       "      <td>0.871007</td>\n",
       "    </tr>\n",
       "    <tr>\n",
       "      <th>3</th>\n",
       "      <td>138628</td>\n",
       "      <td>0.867394</td>\n",
       "    </tr>\n",
       "    <tr>\n",
       "      <th>4</th>\n",
       "      <td>141682</td>\n",
       "      <td>0.871007</td>\n",
       "    </tr>\n",
       "    <tr>\n",
       "      <th>...</th>\n",
       "      <td>...</td>\n",
       "      <td>...</td>\n",
       "    </tr>\n",
       "    <tr>\n",
       "      <th>10229</th>\n",
       "      <td>143750</td>\n",
       "      <td>0.867394</td>\n",
       "    </tr>\n",
       "    <tr>\n",
       "      <th>10230</th>\n",
       "      <td>143813</td>\n",
       "      <td>0.952261</td>\n",
       "    </tr>\n",
       "    <tr>\n",
       "      <th>10231</th>\n",
       "      <td>137126</td>\n",
       "      <td>0.871007</td>\n",
       "    </tr>\n",
       "    <tr>\n",
       "      <th>10232</th>\n",
       "      <td>135652</td>\n",
       "      <td>0.952261</td>\n",
       "    </tr>\n",
       "    <tr>\n",
       "      <th>10233</th>\n",
       "      <td>136852</td>\n",
       "      <td>0.871007</td>\n",
       "    </tr>\n",
       "  </tbody>\n",
       "</table>\n",
       "<p>10234 rows × 2 columns</p>\n",
       "</div>"
      ],
      "text/plain": [
       "       encounter_id  diabetes_mellitus\n",
       "0            144740           0.952261\n",
       "1            141990           0.952261\n",
       "2            142038           0.871007\n",
       "3            138628           0.867394\n",
       "4            141682           0.871007\n",
       "...             ...                ...\n",
       "10229        143750           0.867394\n",
       "10230        143813           0.952261\n",
       "10231        137126           0.871007\n",
       "10232        135652           0.952261\n",
       "10233        136852           0.871007\n",
       "\n",
       "[10234 rows x 2 columns]"
      ]
     },
     "execution_count": 30,
     "metadata": {},
     "output_type": "execute_result"
    }
   ],
   "source": [
    "diabetes_prediction_final = pd.concat([diabetes_encounter.reset_index(drop=True), diabetes_prediction], axis=1)\n",
    "diabetes_prediction_final"
   ]
  },
  {
   "cell_type": "code",
   "execution_count": 31,
   "metadata": {
    "execution": {
     "iopub.execute_input": "2024-01-06T06:50:54.430372Z",
     "iopub.status.busy": "2024-01-06T06:50:54.429574Z",
     "iopub.status.idle": "2024-01-06T06:50:54.477141Z",
     "shell.execute_reply": "2024-01-06T06:50:54.476395Z"
    },
    "papermill": {
     "duration": 0.111673,
     "end_time": "2024-01-06T06:50:54.477348",
     "exception": false,
     "start_time": "2024-01-06T06:50:54.365675",
     "status": "completed"
    },
    "tags": []
   },
   "outputs": [],
   "source": [
    "diabetes_prediction_final.to_csv('Diabetes_prediction.csv',index=False)"
   ]
  }
 ],
 "metadata": {
  "kaggle": {
   "accelerator": "none",
   "dataSources": [
    {
     "databundleVersionId": 1852555,
     "sourceId": 22359,
     "sourceType": "competition"
    }
   ],
   "dockerImageVersionId": 30060,
   "isGpuEnabled": false,
   "isInternetEnabled": false,
   "language": "python",
   "sourceType": "notebook"
  },
  "kernelspec": {
   "display_name": "Python 3",
   "language": "python",
   "name": "python3"
  },
  "language_info": {
   "codemirror_mode": {
    "name": "ipython",
    "version": 3
   },
   "file_extension": ".py",
   "mimetype": "text/x-python",
   "name": "python",
   "nbconvert_exporter": "python",
   "pygments_lexer": "ipython3",
   "version": "3.7.9"
  },
  "papermill": {
   "default_parameters": {},
   "duration": 6587.696118,
   "end_time": "2024-01-06T06:50:56.341181",
   "environment_variables": {},
   "exception": null,
   "input_path": "__notebook__.ipynb",
   "output_path": "__notebook__.ipynb",
   "parameters": {},
   "start_time": "2024-01-06T05:01:08.645063",
   "version": "2.2.2"
  }
 },
 "nbformat": 4,
 "nbformat_minor": 4
}
